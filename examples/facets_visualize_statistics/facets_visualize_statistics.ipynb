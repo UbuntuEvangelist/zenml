{
 "cells": [
  {
   "attachments": {},
   "cell_type": "markdown",
   "metadata": {},
   "source": [
    "# Visualize Dataset Statistics using Facets\n",
    "\n",
    "In this example we create a simple pipeline that returns two `pd.DataFrames`, \n",
    "one for training data and one for the test data. Then we use the \n",
    "`facets_visualization_step` to compare the summary statistics of the two \n",
    "datasets.\n",
    "\n",
    "Let's start by defining our pipeline:"
   ]
  },
  {
   "cell_type": "code",
   "execution_count": null,
   "metadata": {},
   "outputs": [],
   "source": [
    "from zenml.pipelines import pipeline\n",
    "\n",
    "\n",
    "@pipeline()\n",
    "def facets_pipeline(importer, facets_visualization_step):\n",
    "    \"\"\"Simple pipeline comparing two datasets using Facets.\"\"\"\n",
    "    X_train, X_test, y_train, y_test = importer()\n",
    "    facets_visualization_step(X_train, X_test)"
   ]
  },
  {
   "attachments": {},
   "cell_type": "markdown",
   "metadata": {},
   "source": [
    "Next, let's define a step to load the Iris dataset as pandas DataFrames:"
   ]
  },
  {
   "cell_type": "code",
   "execution_count": null,
   "metadata": {},
   "outputs": [],
   "source": [
    "\n",
    "import pandas as pd\n",
    "from sklearn.datasets import load_iris\n",
    "from sklearn.model_selection import train_test_split\n",
    "\n",
    "from zenml.steps import Output, step\n",
    "\n",
    "\n",
    "@step\n",
    "def importer() -> Output(\n",
    "    X_train=pd.DataFrame,\n",
    "    X_test=pd.DataFrame,\n",
    "    y_train=pd.Series,\n",
    "    y_test=pd.Series,\n",
    "):\n",
    "    \"\"\"Load the iris dataset as tuple of Pandas DataFrame / Series.\"\"\"\n",
    "    iris = load_iris(as_frame=True)\n",
    "    X_train, X_test, y_train, y_test = train_test_split(\n",
    "        iris.data, iris.target, test_size=0.2, shuffle=True, random_state=42\n",
    "    )\n",
    "    return X_train, X_test, y_train, y_test"
   ]
  },
  {
   "attachments": {},
   "cell_type": "markdown",
   "metadata": {},
   "source": [
    "Using the predefined `facets_visualization_step`, we can now compare the\n",
    "statistics of the training and test splits:"
   ]
  },
  {
   "cell_type": "code",
   "execution_count": null,
   "metadata": {},
   "outputs": [],
   "source": [
    "from zenml.integrations.facets.steps.facets_visualization_steps import (\n",
    "    facets_visualization_step,\n",
    ")\n",
    "\n",
    "\n",
    "pipeline_instance = facets_pipeline(\n",
    "    importer=importer(),\n",
    "    facets_visualization_step=facets_visualization_step(),\n",
    ")\n",
    "pipeline_instance.run()"
   ]
  },
  {
   "cell_type": "code",
   "execution_count": null,
   "metadata": {},
   "outputs": [],
   "source": [
    "last_run = pipeline_instance.get_runs()[0]\n",
    "last_run.get_step(\"facets_visualization_step\").visualize()"
   ]
  }
 ],
 "metadata": {
  "kernelspec": {
   "display_name": "zenml",
   "language": "python",
   "name": "python3"
  },
  "language_info": {
   "codemirror_mode": {
    "name": "ipython",
    "version": 3
   },
   "file_extension": ".py",
   "mimetype": "text/x-python",
   "name": "python",
   "nbconvert_exporter": "python",
   "pygments_lexer": "ipython3",
   "version": "3.8.13"
  },
  "orig_nbformat": 4
 },
 "nbformat": 4,
 "nbformat_minor": 2
}
